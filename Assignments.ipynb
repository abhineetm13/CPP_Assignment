{
 "cells": [
  {
   "cell_type": "markdown",
   "metadata": {},
   "source": [
    "# **Basic Python**"
   ]
  },
  {
   "cell_type": "markdown",
   "metadata": {},
   "source": [
    "## 1.a \n",
    "Give a function F that takes a single argument n. This function should print a sequence of n strings as described in the examples below: <br>\n",
    "Ex: **n = 3**\n",
    "\n",
    "--A--<br>\n",
    "-BAB-<br>\n",
    "CBABC<br>\n",
    "\n",
    "**n = 4**\n",
    "\n",
    "---A---<br>\n",
    "--BAB--<br>\n",
    "-CBABC-<br>\n",
    "DCBABCD"
   ]
  },
  {
   "cell_type": "code",
   "execution_count": 29,
   "metadata": {},
   "outputs": [
    {
     "name": "stdout",
     "output_type": "stream",
     "text": [
      "---------A---------\n",
      "--------BAB--------\n",
      "-------CBABC-------\n",
      "------DCBABCD------\n",
      "-----EDCBABCDE-----\n",
      "----FEDCBABCDEF----\n",
      "---GFEDCBABCDEFG---\n",
      "--HGFEDCBABCDEFGH--\n",
      "-IHGFEDCBABCDEFGHI-\n",
      "JIHGFEDCBABCDEFGHIJ\n",
      "-----A-----\n",
      "----BAB----\n",
      "---CBABC---\n",
      "--DCBABCD--\n",
      "-EDCBABCDE-\n",
      "FEDCBABCDEF\n"
     ]
    }
   ],
   "source": [
    "def F(n):\n",
    "    # Start coding\n",
    "    assert n >= 0 and n < 27 and int(n) == n\n",
    "    for i in range(n):\n",
    "        x = [ord('-') for _ in range(n - i - 1)]\n",
    "        x +=  [ord('A') + (i - j) for j in range(i)]\n",
    "        x += [ord('A') + j for j in range(i + 1)]\n",
    "        x += [ord('-') for _ in range(n - i - 1)]\n",
    "        print(''.join(map(chr, x)))\n",
    "\n",
    "# Tests\n",
    "F(10)\n",
    "F(6)"
   ]
  },
  {
   "cell_type": "markdown",
   "metadata": {},
   "source": [
    "## 1.b\n",
    "Make a function F that takes only one argument, a dictionary(dict) d.\n",
    "The keys of d are integers and the values of d are a tuple of type (x (int), y (int)).\n",
    "You must print out the dict in the format \"-key-, -x-, -y-\" with each entry in a new line. Print it for each of the three sorted orders, by key values ascending, by x values descending, by y values ascending."
   ]
  },
  {
   "cell_type": "code",
   "execution_count": 30,
   "metadata": {},
   "outputs": [
    {
     "name": "stdout",
     "output_type": "stream",
     "text": [
      "1 1 2\n",
      "2 -1 4\n",
      "4 2 3\n",
      "5 -4 3\n",
      "4,2,3\n",
      "1,1,2\n",
      "2,-1,4\n",
      "5,-4,3\n",
      "1,1,2\n",
      "5,-4,3\n",
      "4,2,3\n",
      "2,-1,4\n",
      "-8 4 2\n",
      "5 9 -10\n",
      "6 -3 4\n",
      "7 2 1\n",
      "5,9,-10\n",
      "-8,4,2\n",
      "7,2,1\n",
      "6,-3,4\n",
      "5,9,-10\n",
      "7,2,1\n",
      "-8,4,2\n",
      "6,-3,4\n"
     ]
    }
   ],
   "source": [
    "def F(d : dict):\n",
    "    # Start coding\n",
    "\n",
    "    # sorted in ascending order of key\n",
    "    for key in sorted(d):\n",
    "        print(key, d[key][0], d[key][1])\n",
    "\n",
    "    arr1 = [(d[key][0], d[key][1], key) for key in d]\n",
    "    arr2 = [(d[key][1], d[key][0], key) for key in d]\n",
    "\n",
    "    # sorted in descending order of x\n",
    "    for entry in sorted(arr1, reverse=True):\n",
    "        print(str(entry[2]) + ',' + str(entry[0]) + ',' + str(entry[1]))\n",
    "\n",
    "    # sorted in ascending order of y\n",
    "    for entry in sorted(arr2):\n",
    "        print(str(entry[2]) + ',' + str(entry[1]) + ',' + str(entry[0]))\n",
    "\n",
    "# Tests\n",
    "F({1 : (1, 2), 2 : (-1, 4), 5 : (-4, 3), 4 : (2, 3)})\n",
    "F({-8 : (4, 2), 6 : (-3, 4), 7 : (2, 1), 5 : (9, -10)})"
   ]
  },
  {
   "cell_type": "markdown",
   "metadata": {},
   "source": [
    "## 2 Working with Student Records\n",
    "\n",
    "Use the data in **student_records.csv** to complete the given tasks. Do not include any external libraries. Use a Python dictionary if required.\n",
    "\n",
    "### Reference\n",
    "- [Python Dictionaries](https://www.w3schools.com/python/python_dictionaries.asp)\n"
   ]
  },
  {
   "cell_type": "markdown",
   "metadata": {},
   "source": [
    "#### 2.a: open the student_records.csv file and print out the first 10 rows"
   ]
  },
  {
   "cell_type": "code",
   "execution_count": 31,
   "metadata": {},
   "outputs": [
    {
     "name": "stdout",
     "output_type": "stream",
     "text": [
      "roll_number,department,credit,course_name,course_type,grade\n",
      "588946,MA,3,EC250,hasmed_elective,AB\n",
      "145372,EP,4,EP407,hasmed_elective,CC\n",
      "834515,MA,8,EP885,hasmed_elective,BB\n",
      "344265,CSE,6,CSE699,honours,AB\n",
      "358405,MA,3,EE460,minor,AP\n",
      "781075,CE,8,CE540,honours,CC\n",
      "180828,CSE,6,CE880,minor,AB\n",
      "981238,MM,4,CSE226,minor,AB\n",
      "836881,MM,8,MM530,core,AA\n"
     ]
    }
   ],
   "source": [
    "#TODO\n",
    "file = open('student_records.csv', 'r')\n",
    "lines = file.readlines()\n",
    "for i in range(10):\n",
    "    print(lines[i].strip())"
   ]
  },
  {
   "cell_type": "markdown",
   "metadata": {},
   "source": [
    "#### 2.b: Print out the total credits and calculte CPI of each student. \n",
    "CPI is the weighted average of core courses, and electives (weights being the letter grades converted to number AP,AA=10, AB=9, BB=9, BC=7, CC=6)"
   ]
  },
  {
   "cell_type": "code",
   "execution_count": 32,
   "metadata": {},
   "outputs": [
    {
     "name": "stdout",
     "output_type": "stream",
     "text": [
      "Roll number,Total Credits,CPI\n",
      "588946,199,8.693467336683417\n",
      "145372,173,7.745664739884393\n",
      "834515,199,8.21608040201005\n",
      "344265,153,8.699346405228757\n",
      "358405,206,8.587378640776699\n",
      "781075,246,8.170731707317072\n",
      "180828,177,8.096045197740112\n",
      "981238,168,8.244047619047619\n",
      "836881,246,8.386178861788618\n",
      "310604,198,8.333333333333334\n",
      "847809,261,8.210727969348659\n",
      "773982,264,8.068181818181818\n",
      "500658,208,8.16826923076923\n",
      "810863,192,8.151041666666666\n",
      "124663,229,8.126637554585153\n",
      "364146,225,8.395555555555555\n",
      "871746,216,8.212962962962964\n",
      "270007,241,8.033195020746888\n",
      "597353,200,8.12\n",
      "986057,199,8.06532663316583\n",
      "718510,184,8.429347826086957\n",
      "836431,160,7.9\n",
      "379479,260,8.246153846153845\n",
      "582912,221,8.656108597285067\n",
      "788020,193,8.015544041450777\n",
      "613401,209,8.440191387559809\n",
      "144528,228,8.157894736842104\n",
      "485484,216,8.36111111111111\n",
      "680096,153,8.045751633986928\n",
      "199713,172,8.290697674418604\n",
      "851029,161,8.322981366459627\n",
      "845623,237,8.375527426160337\n",
      "150503,173,8.289017341040463\n",
      "214270,229,7.877729257641922\n",
      "517837,205,8.580487804878048\n",
      "482623,254,8.401574803149606\n",
      "721490,235,8.34468085106383\n",
      "955757,251,8.290836653386455\n",
      "589528,153,8.732026143790849\n",
      "143856,201,8.487562189054726\n",
      "571782,217,8.423963133640553\n",
      "973158,193,8.512953367875648\n",
      "703403,254,8.338582677165354\n",
      "960395,262,8.625954198473282\n",
      "521087,217,7.935483870967742\n",
      "461971,252,8.293650793650794\n",
      "879634,203,8.738916256157635\n",
      "716985,185,8.183783783783785\n",
      "194063,157,8.140127388535031\n",
      "265922,236,8.347457627118644\n",
      "283796,211,8.815165876777252\n",
      "203200,157,8.789808917197453\n",
      "301135,206,8.325242718446601\n",
      "327122,246,8.16260162601626\n",
      "381526,160,8.425\n",
      "534763,158,7.930379746835443\n",
      "391848,217,8.43778801843318\n",
      "329535,157,8.229299363057326\n",
      "971123,210,7.961904761904762\n",
      "207443,161,8.304347826086957\n",
      "488661,248,8.60483870967742\n",
      "782129,184,8.53804347826087\n",
      "928288,191,8.513089005235603\n",
      "581858,216,8.050925925925926\n",
      "733782,169,8.420118343195266\n",
      "282482,228,8.289473684210526\n",
      "572815,212,8.316037735849056\n",
      "608952,251,8.326693227091633\n",
      "628849,183,8.71584699453552\n",
      "630568,217,8.244239631336406\n",
      "388969,229,8.314410480349345\n",
      "159438,176,8.380681818181818\n",
      "478606,244,8.319672131147541\n",
      "995208,157,7.7834394904458595\n",
      "841365,177,7.994350282485875\n",
      "870642,161,8.01863354037267\n",
      "970791,220,8.122727272727273\n",
      "143142,234,8.782051282051283\n",
      "998293,207,8.695652173913043\n",
      "907454,245,8.269387755102041\n",
      "681499,234,8.256410256410257\n",
      "888886,207,8.270531400966183\n",
      "608522,159,8.61006289308176\n",
      "362471,214,7.929906542056075\n",
      "465496,168,8.303571428571429\n",
      "208100,182,8.587912087912088\n",
      "138296,200,8.275\n",
      "775967,197,8.431472081218274\n",
      "692318,216,8.166666666666666\n",
      "461584,234,8.235042735042734\n",
      "626000,210,8.428571428571429\n",
      "458200,190,8.394736842105264\n",
      "581065,196,8.224489795918368\n",
      "787967,192,8.411458333333334\n",
      "381227,179,8.223463687150838\n",
      "750259,209,8.354066985645932\n",
      "881983,169,8.325443786982248\n",
      "294697,269,8.572490706319703\n",
      "816041,158,8.462025316455696\n",
      "993835,175,8.434285714285714\n"
     ]
    }
   ],
   "source": [
    "#TODO\n",
    "grade_map = {'AP': 10, 'AA': 10, 'AB': 9, 'BB': 8, 'BC': 7, 'CC': 6}\n",
    "# roll_number: (total credits, cgp, core, dept_elec, flex_elec, hasmed_elec, honours)\n",
    "students_records = {}\n",
    "students_minor_records = {}\n",
    "\n",
    "# storing records in dict\n",
    "for i in range(1, len(lines)-1):\n",
    "    record = lines[i].strip().split(',')\n",
    "    credits = int(record[2])\n",
    "    if record[0] not in students_records:\n",
    "        students_records[record[0]] = [0, 0, 0, 0, 0, 0, 0]\n",
    "        students_minor_records[record[0]] = {}\n",
    "\n",
    "    students_records[record[0]][0] += credits\n",
    "    students_records[record[0]][1] += credits*grade_map[record[5]]\n",
    "    if record[4] == 'core':\n",
    "        students_records[record[0]][2] += credits\n",
    "    elif record[4] == 'department_elective':\n",
    "        students_records[record[0]][3] += credits\n",
    "    elif record[4] == 'felxible_elective':\n",
    "        students_records[record[0]][4] += credits\n",
    "    elif record[4] == 'hasmed_elective':\n",
    "        students_records[record[0]][5] += credits\n",
    "    elif record[4] == 'honours':\n",
    "        students_records[record[0]][6] += credits\n",
    "    elif record[4] == 'minor':\n",
    "        if record[3][0:1] in students_minor_records[record[0]]:\n",
    "            students_minor_records[record[0]][record[3][0:1]] += credits\n",
    "        else:\n",
    "            students_minor_records[record[0]][record[3][0:1]] = credits\n",
    "    \n",
    "# printing\n",
    "print('Roll number', 'Total Credits', 'CPI', sep=',')\n",
    "for roll in students_records:\n",
    "    print(roll, students_records[roll][0], students_records[roll][1]/students_records[roll][0], sep=',')\n"
   ]
  },
  {
   "cell_type": "markdown",
   "metadata": {},
   "source": [
    "#### 2.c: Print out the names of all students who meet the graduation requirements \n",
    "Atleast 20 credist of core course, 15 credits of department elective, 10 credits of flexible elective and 5 credits of hasmed electives"
   ]
  },
  {
   "cell_type": "code",
   "execution_count": 33,
   "metadata": {},
   "outputs": [
    {
     "name": "stdout",
     "output_type": "stream",
     "text": [
      "588946\n",
      "834515\n",
      "781075\n",
      "180828\n",
      "981238\n",
      "836881\n",
      "310604\n",
      "773982\n",
      "500658\n",
      "810863\n",
      "124663\n",
      "871746\n",
      "986057\n",
      "379479\n",
      "144528\n",
      "485484\n",
      "845623\n",
      "150503\n",
      "214270\n",
      "517837\n",
      "482623\n",
      "721490\n",
      "955757\n",
      "143856\n",
      "571782\n",
      "973158\n",
      "703403\n",
      "960395\n",
      "521087\n",
      "461971\n",
      "879634\n",
      "716985\n",
      "265922\n",
      "283796\n",
      "203200\n",
      "327122\n",
      "534763\n",
      "391848\n",
      "971123\n",
      "207443\n",
      "488661\n",
      "782129\n",
      "928288\n",
      "581858\n",
      "282482\n",
      "572815\n",
      "608952\n",
      "628849\n",
      "630568\n",
      "388969\n",
      "159438\n",
      "970791\n",
      "143142\n",
      "998293\n",
      "681499\n",
      "888886\n",
      "608522\n",
      "362471\n",
      "692318\n",
      "626000\n",
      "581065\n",
      "787967\n",
      "381227\n",
      "750259\n",
      "881983\n",
      "294697\n"
     ]
    }
   ],
   "source": [
    "#TODO\n",
    "for roll in students_records:\n",
    "    if students_records[roll][2] >= 20 and students_records[roll][3] >= 15 and students_records[roll][4] >= 10 and students_records[roll][5] >= 5:\n",
    "        print(roll)"
   ]
  },
  {
   "cell_type": "markdown",
   "metadata": {},
   "source": [
    "#### 2.d: Print out the names of all students who completed a minor \n",
    "Atleast 10 credits with minor tag in a specific department"
   ]
  },
  {
   "cell_type": "code",
   "execution_count": 34,
   "metadata": {},
   "outputs": [
    {
     "name": "stdout",
     "output_type": "stream",
     "text": [
      "588946\n",
      "145372\n",
      "344265\n",
      "358405\n",
      "781075\n",
      "981238\n",
      "836881\n",
      "847809\n",
      "773982\n",
      "500658\n",
      "810863\n",
      "124663\n",
      "364146\n",
      "270007\n",
      "597353\n",
      "986057\n",
      "718510\n",
      "836431\n",
      "379479\n",
      "582912\n",
      "788020\n",
      "613401\n",
      "144528\n",
      "680096\n",
      "199713\n",
      "851029\n",
      "845623\n",
      "214270\n",
      "517837\n",
      "482623\n",
      "721490\n",
      "955757\n",
      "143856\n",
      "571782\n",
      "973158\n",
      "703403\n",
      "960395\n",
      "521087\n",
      "461971\n",
      "879634\n",
      "716985\n",
      "265922\n",
      "283796\n",
      "203200\n",
      "301135\n",
      "381526\n",
      "391848\n",
      "329535\n",
      "971123\n",
      "782129\n",
      "581858\n",
      "733782\n",
      "572815\n",
      "608952\n",
      "628849\n",
      "630568\n",
      "388969\n",
      "159438\n",
      "478606\n",
      "995208\n",
      "970791\n",
      "143142\n",
      "907454\n",
      "681499\n",
      "888886\n",
      "362471\n",
      "465496\n",
      "208100\n",
      "138296\n",
      "775967\n",
      "461584\n",
      "458200\n",
      "581065\n",
      "787967\n",
      "381227\n",
      "750259\n",
      "816041\n",
      "993835\n"
     ]
    }
   ],
   "source": [
    "#TODO\n",
    "for roll in students_minor_records:\n",
    "    for dept in students_minor_records[roll]:\n",
    "        if students_minor_records[roll][dept] >= 10:\n",
    "            print(roll)\n",
    "            break"
   ]
  },
  {
   "cell_type": "code",
   "execution_count": null,
   "metadata": {},
   "outputs": [],
   "source": []
  },
  {
   "cell_type": "markdown",
   "metadata": {},
   "source": [
    "#### 2.e: Print out the names of all students who completed a honours\n",
    "Atleast 10 credits with honours tag and 20 core credits"
   ]
  },
  {
   "cell_type": "code",
   "execution_count": 35,
   "metadata": {},
   "outputs": [
    {
     "name": "stdout",
     "output_type": "stream",
     "text": [
      "588946\n",
      "145372\n",
      "834515\n",
      "781075\n",
      "836881\n",
      "310604\n",
      "773982\n",
      "500658\n",
      "810863\n",
      "124663\n",
      "364146\n",
      "871746\n",
      "986057\n",
      "718510\n",
      "379479\n",
      "582912\n",
      "788020\n",
      "613401\n",
      "144528\n",
      "485484\n",
      "199713\n",
      "845623\n",
      "150503\n",
      "214270\n",
      "517837\n",
      "482623\n",
      "721490\n",
      "955757\n",
      "589528\n",
      "143856\n",
      "571782\n",
      "973158\n",
      "703403\n",
      "960395\n",
      "521087\n",
      "461971\n",
      "879634\n",
      "716985\n",
      "265922\n",
      "283796\n",
      "203200\n",
      "327122\n",
      "534763\n",
      "391848\n",
      "971123\n",
      "207443\n",
      "488661\n",
      "782129\n",
      "928288\n",
      "581858\n",
      "282482\n",
      "572815\n",
      "608952\n",
      "628849\n",
      "630568\n",
      "388969\n",
      "159438\n",
      "870642\n",
      "970791\n",
      "143142\n",
      "998293\n",
      "681499\n",
      "888886\n",
      "608522\n",
      "362471\n",
      "465496\n",
      "208100\n",
      "692318\n",
      "626000\n",
      "458200\n",
      "581065\n",
      "787967\n",
      "750259\n",
      "881983\n",
      "294697\n"
     ]
    }
   ],
   "source": [
    "#TODO\n",
    "for roll in students_records:\n",
    "    if students_records[roll][6] >= 10 and students_records[roll][2] >= 20:\n",
    "        print(roll)"
   ]
  },
  {
   "cell_type": "markdown",
   "metadata": {},
   "source": [
    "# **SciPy** "
   ]
  },
  {
   "cell_type": "markdown",
   "metadata": {},
   "source": [
    "## Part A\n",
    "Minimize the function $f(x, y) = 2(x - y - 3)^2 + 4(x + 2y + 1)^4$.<br>\n",
    "With the constraints : $ x - y \\ge -3, (x + 2)^2 + (y + 1)^2 \\le 5$ <br>\n",
    "Using scipy.optimize.minimize with constraints. (Hint: Look at the examples in the official documentation)"
   ]
  },
  {
   "cell_type": "code",
   "execution_count": 36,
   "metadata": {},
   "outputs": [
    {
     "name": "stdout",
     "output_type": "stream",
     "text": [
      "Optimal point: [ 0.23492503 -0.92851489]\n",
      "Optimal value: 7.345026216976594\n"
     ]
    }
   ],
   "source": [
    "#TODO\n",
    "from scipy.optimize import minimize\n",
    "\n",
    "def f(x):\n",
    "    return 2 * (x[0] - x[1] - 3)**2 + 4 * (x[0] + 2 * x[1] + 1)**4\n",
    "\n",
    "cons = (\n",
    "    {'type': 'ineq', 'fun': lambda x: x[0] - x[1] + 3},\n",
    "    {'type': 'ineq', 'fun': lambda x: 5 - ((x[0] + 2)**2 + (x[1] + 1)**2)}\n",
    ")\n",
    "\n",
    "# Initial guess\n",
    "x0 = [0, 0]\n",
    "\n",
    "# Perform the minimization\n",
    "result = minimize(f, x0, constraints=cons)\n",
    "\n",
    "print(\"Optimal point:\", result.x)\n",
    "print(\"Optimal value:\", result.fun)"
   ]
  },
  {
   "cell_type": "markdown",
   "metadata": {},
   "source": [
    "# Part B\n",
    "Evaluate the line integral of the function $f(x, y) = x^2 + y^4$ along the circle $ x^2 + y^2 = 3 $ anticlockwise (scalar integral, not vector). You must use scipy for integration but you may use parameterization"
   ]
  },
  {
   "cell_type": "code",
   "execution_count": 37,
   "metadata": {},
   "outputs": [
    {
     "name": "stdout",
     "output_type": "stream",
     "text": [
      "30.630528372500475\n"
     ]
    }
   ],
   "source": [
    "import numpy as np\n",
    "from scipy.integrate import quad\n",
    "\n",
    "def f(r, t):\n",
    "    return (r * np.cos(t))**2 + (r * np.sin(t))**4\n",
    "\n",
    "r = np.sqrt(3)\n",
    "\n",
    "result = quad(lambda t: f(r, t), 0, 2*np.pi)\n",
    "print(result[0])"
   ]
  },
  {
   "cell_type": "markdown",
   "metadata": {},
   "source": [
    "# **Numpy**"
   ]
  },
  {
   "cell_type": "markdown",
   "metadata": {},
   "source": [
    "### Read Lisan_Al_Gaib.pdf for problem description and complete the following functions"
   ]
  },
  {
   "cell_type": "code",
   "execution_count": 60,
   "metadata": {},
   "outputs": [],
   "source": [
    "import time # to time the execution\n",
    "import numpy as np\n",
    "import matplotlib.pyplot as plt"
   ]
  },
  {
   "cell_type": "code",
   "execution_count": 61,
   "metadata": {},
   "outputs": [],
   "source": [
    "### TODO 1\n",
    "### Load data from data_path\n",
    "### Check the input file spice_locations.txt to understand the Data Format\n",
    "### Return : np array of size Nx2\n",
    "def load_data(data_path):\n",
    "    return np.loadtxt(data_path, delimiter=',')"
   ]
  },
  {
   "cell_type": "code",
   "execution_count": 62,
   "metadata": {},
   "outputs": [],
   "source": [
    "### TODO 2.1\n",
    "### If init_centers is None, initialize the centers by selecting K data points at random without replacement\n",
    "### Else, use the centers provided in init_centers\n",
    "### Return : np array of size Kx2\n",
    "def initialise_centers(data, K, init_centers=None):\n",
    "    if init_centers == None:\n",
    "        return data[np.random.choice(data.shape[0], K)]\n",
    "    return init_centers"
   ]
  },
  {
   "cell_type": "code",
   "execution_count": 63,
   "metadata": {},
   "outputs": [],
   "source": [
    "### TODO 2.2\n",
    "### Initialize the labels to all ones to size (N,) where N is the number of data points\n",
    "### Return : np array of size N\n",
    "def initialise_labels(data):\n",
    "    return np.ones(data.shape[0])"
   ]
  },
  {
   "cell_type": "code",
   "execution_count": 64,
   "metadata": {},
   "outputs": [],
   "source": [
    "### TODO 3.1 : E step\n",
    "### For Each data point, find the distance to each center\n",
    "### Return : np array of size NxK\n",
    "def calculate_distances(data, centers):\n",
    "    # data: Nx2, centres: Kx2\n",
    "    distances_squared = np.transpose(np.atleast_2d(np.sum(np.square(data), axis=1))) + np.sum(np.square(centers), axis=1) - 2*np.matmul(data, np.transpose(centers))\n",
    "    distances_squared[distances_squared < 0] = 0\n",
    "    distances = np.sqrt(distances_squared)\n",
    "    return distances"
   ]
  },
  {
   "cell_type": "code",
   "execution_count": 65,
   "metadata": {},
   "outputs": [],
   "source": [
    "### TODO 3.2 : E step\n",
    "### For Each data point, assign the label of the nearest center\n",
    "### Return : np array of size N\n",
    "def update_labels(distances):\n",
    "    return np.argmin(distances, axis=1) + 1"
   ]
  },
  {
   "cell_type": "code",
   "execution_count": 66,
   "metadata": {},
   "outputs": [],
   "source": [
    "### TODO 4 : M step\n",
    "### Update the centers to the mean of the data points assigned to it\n",
    "### Return : np array of size Kx2\n",
    "def update_centers(data, labels, K):\n",
    "    centers = np.zeros((K, data.shape[1]))\n",
    "    counts = np.zeros(K)\n",
    "    np.add.at(centers, labels - 1, data)\n",
    "    np.add.at(counts, labels - 1, 1)\n",
    "    epsilon = 1e-10\n",
    "    centers /= (counts[:, None] + epsilon)\n",
    "    return centers\n"
   ]
  },
  {
   "cell_type": "code",
   "execution_count": 67,
   "metadata": {},
   "outputs": [],
   "source": [
    "### TODO 6 : Check convergence\n",
    "### Check if the labels have changed from the previous iteration\n",
    "### Return : True / False\n",
    "def check_termination(labels1, labels2):\n",
    "    if np.sum(np.square(labels1 - labels2)) == 0: \n",
    "        return False\n",
    "    return True"
   ]
  },
  {
   "cell_type": "code",
   "execution_count": 68,
   "metadata": {},
   "outputs": [],
   "source": [
    "### DON'T CHANGE ANYTHING IN THE FOLLOWING FUNCTION\n",
    "def kmeans(data_path:str, K:int, init_centers):\n",
    "    '''\n",
    "    Input :\n",
    "        data (type str): path to the file containing the data\n",
    "        K (type int): number of clusters\n",
    "        init_centers (type numpy.ndarray): initial centers. shape = (K, 2) or None\n",
    "    Output :\n",
    "        centers (type numpy.ndarray): final centers. shape = (K, 2)\n",
    "        labels (type numpy.ndarray): label of each data point. shape = (N,)\n",
    "        time (type float): time taken by the algorithm to converge in seconds\n",
    "    N is the number of data points each of shape (2,)\n",
    "    '''\n",
    "    data = load_data(data_path)    \n",
    "    centers = initialise_centers(data, K, init_centers)\n",
    "    labels = initialise_labels(data)\n",
    "\n",
    "    start_time = time.time() # Time stamp \n",
    "\n",
    "    while True:\n",
    "        distances = calculate_distances(data, centers)\n",
    "        labels_new = update_labels(distances)\n",
    "        centers = update_centers(data, labels_new, K)\n",
    "        if check_termination(labels, labels_new): break\n",
    "        else: labels = labels_new\n",
    " \n",
    "    end_time = time.time() # Time stamp after the algorithm ends\n",
    "    return centers, labels, end_time - start_time "
   ]
  },
  {
   "cell_type": "code",
   "execution_count": 69,
   "metadata": {},
   "outputs": [],
   "source": [
    "### TODO 7\n",
    "def visualise(data_path, labels, centers):\n",
    "    data = load_data(data_path)\n",
    "\n",
    "    # Scatter plot of the data points\n",
    "    plt.scatter(data[:, 0], data[:, 1], c=labels, s=50, cmap='viridis')\n",
    "    plt.scatter(centers[:, 0], centers[:, 1], c='black', s=200, alpha=0.5)\n",
    "\n",
    "    ### Set title as 'K-means clustering'\n",
    "    plt.title('K-means clustering')\n",
    "\n",
    "    ### Set xlabel as 'Longitude'\n",
    "    plt.xlabel('Longitude')\n",
    "\n",
    "    ### Set ylabel as 'Latitude'\n",
    "    plt.ylabel('Latitude')\n",
    "\n",
    "    ### Save the plot as 'kmeans.png'\n",
    "    plt.savefig('kmeans.png')\n",
    "\n",
    "    ## DO NOT CHANGE THE FOLLOWING LINE\n",
    "    return plt"
   ]
  },
  {
   "cell_type": "code",
   "execution_count": 70,
   "metadata": {},
   "outputs": [
    {
     "name": "stdout",
     "output_type": "stream",
     "text": [
      "Time taken for the algorithm to converge: 0.0\n"
     ]
    },
    {
     "data": {
      "text/plain": [
       "<module 'matplotlib.pyplot' from 'd:\\\\IITB Clubs\\\\comp_physics\\\\CPP_Assignment\\\\.venv\\\\Lib\\\\site-packages\\\\matplotlib\\\\pyplot.py'>"
      ]
     },
     "execution_count": 70,
     "metadata": {},
     "output_type": "execute_result"
    },
    {
     "data": {
      "image/png": "[encoded data removed]",
      "text/plain": [
       "<Figure size 640x480 with 1 Axes>"
      ]
     },
     "metadata": {},
     "output_type": "display_data"
    }
   ],
   "source": [
    "### After you have completed the above functions, run the following code to generate the plot\n",
    "data_path = 'spice_locations.txt'\n",
    "K, init_centers = 2, None\n",
    "centers, labels, time_taken = kmeans(data_path, K, init_centers)\n",
    "print('Time taken for the algorithm to converge:', time_taken)\n",
    "visualise(data_path, labels, centers)"
   ]
  }
 ],
 "metadata": {
  "kernelspec": {
   "display_name": ".venv",
   "language": "python",
   "name": "python3"
  },
  "language_info": {
   "codemirror_mode": {
    "name": "ipython",
    "version": 3
   },
   "file_extension": ".py",
   "mimetype": "text/x-python",
   "name": "python",
   "nbconvert_exporter": "python",
   "pygments_lexer": "ipython3",
   "version": "3.12.4"
  }
 },
 "nbformat": 4,
 "nbformat_minor": 2
}
